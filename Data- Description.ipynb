{
 "cells": [
  {
   "cell_type": "markdown",
   "metadata": {},
   "source": [
    "## Description of Data\n"
   ]
  },
  {
   "attachments": {},
   "cell_type": "markdown",
   "metadata": {},
   "source": [
    "\n",
    "To find the best location for warehouse to be built, we will use the following sources of information:\n",
    "<ul>\n",
    "    \n",
    "<li>\n",
    "    Data Acquisition\n",
    "The data acquired for this project is a combination of data from two sources. The first data\n",
    "source of the project uses a postal codes in Toronto .  We will need geo-locational information about that specific borough and the neighborhoods in that borough. We assume it is \"Scarborough\" in Toronto. This is easily provided for us by the contractor, because the contractor has already made up his mind about the borough. The \n",
    "\n",
    "</li>\n",
    "<br>\n",
    "\n",
    "<br>\n",
    "\n",
    "<li>\n",
    "From Foursquare. \n",
    "    We will need data about different venues in different neighborhoods of that specific borough. In order to gain that information we will use \"Foursquare\" locational information.\n",
    "\n",
    "</li>\n",
    "</ul>"
   ]
  },
  {
   "cell_type": "code",
   "execution_count": null,
   "metadata": {},
   "outputs": [],
   "source": []
  }
 ],
 "metadata": {
  "kernelspec": {
   "display_name": "Python 3",
   "language": "python",
   "name": "python3"
  },
  "language_info": {
   "codemirror_mode": {
    "name": "ipython",
    "version": 3
   },
   "file_extension": ".py",
   "mimetype": "text/x-python",
   "name": "python",
   "nbconvert_exporter": "python",
   "pygments_lexer": "ipython3",
   "version": "3.7.1"
  }
 },
 "nbformat": 4,
 "nbformat_minor": 2
}
